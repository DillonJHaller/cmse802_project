{
 "cells": [
  {
   "cell_type": "markdown",
   "id": "139a71dc",
   "metadata": {},
   "source": [
    "# Visualize Transitions\n",
    "This notebook is used to generate graphs tracking transitions between different land covers in the past ten years according to the National Land Cover Database\n",
    "\n",
    "It is saved as a notebook to be more easily run in segments."
   ]
  },
  {
   "cell_type": "code",
   "execution_count": null,
   "id": "ef5a0e5f",
   "metadata": {},
   "outputs": [],
   "source": [
    "import pandas as pd\n",
    "import os\n",
    "import matplotlib.pyplot as plt"
   ]
  },
  {
   "cell_type": "code",
   "execution_count": null,
   "id": "d9b5770b",
   "metadata": {},
   "outputs": [],
   "source": [
    "#Get full paths to each yearly shift csv\n",
    "trans_records = [os.path.join(\"results\", \"transitions\", f) for f in os.listdir(\"results\\\\transitions\")]\n",
    "trans_records.sort()\n",
    "\n",
    "years = range(2014, 2024)\n",
    "\n",
    "#Read all csvs into a list of dataframes\n",
    "trans_record_dfs = [pd.read_csv(csv, index_col = 0) for csv in trans_records]\n",
    "\n",
    "#Get relevant shifts being tracked over each year\n",
    "crop_to_pasture =      [df.loc[82, '81'] for df in trans_record_dfs]\n",
    "pasture_to_crop =      [df.loc[81, '82'] for df in trans_record_dfs]\n",
    "pasture_to_grass =     [df.loc[81, '71'] for df in trans_record_dfs]\n",
    "pasture_to_deciduous = [df.loc[81, '41'] for df in trans_record_dfs]\n",
    "crop_to_deciduous =    [df.loc[82, '41'] for df in trans_record_dfs]\n",
    "\n",
    "#Plot those shifts\n",
    "fig, ax = plt.subplots()\n",
    "ax.plot(years[1:], crop_to_pasture, marker = \"o\")\n",
    "ax.set_xlabel(\"Year\")\n",
    "ax.set_ylabel(\"Percent of total land in the study area converted\")\n",
    "ax.set_title(\"Conversion rate from cropland to pastureland\")\n",
    "fig.savefig(\"results\\\\figures\\\\Crop_to_Pasture_rate.png\" )\n",
    "\n",
    "fig, ax = plt.subplots()\n",
    "ax.plot(years[1:], pasture_to_crop, marker = \"o\")\n",
    "ax.set_xlabel(\"Year\")\n",
    "ax.set_ylabel(\"Percent of total land in the study area converted\")\n",
    "ax.set_title(\"Conversion rate from pastureland to cropland\")\n",
    "fig.savefig(\"results\\\\figures\\\\Pasture_to_Crop_rate.png\" )\n",
    "\n",
    "fig, ax = plt.subplots()\n",
    "ax.plot(years[1:], pasture_to_grass, marker = \"o\")\n",
    "ax.set_xlabel(\"Year\")\n",
    "ax.set_ylabel(\"Percent of total land in the study area converted\")\n",
    "ax.set_title(\"Conversion rate from pastureland to grassland\")\n",
    "fig.savefig(\"results\\\\figures\\\\Pasture_to_Grass_rate.png\" )\n",
    "\n",
    "fig, ax = plt.subplots()\n",
    "ax.plot(years[1:], pasture_to_deciduous, marker = \"o\")\n",
    "ax.set_xlabel(\"Year\")\n",
    "ax.set_ylabel(\"Percent of total land in the study area converted\")\n",
    "ax.set_title(\"Conversion rate from pastureland to deciduous forest\")\n",
    "fig.savefig(\"results\\\\figures\\\\Pasture_to_Deciduous_rate.png\" )\n",
    "\n",
    "fig, ax = plt.subplots()\n",
    "ax.plot(years[1:], crop_to_deciduous, marker = \"o\")\n",
    "ax.set_xlabel(\"Year\")\n",
    "ax.set_ylabel(\"Percent of total land in the study area converted\")\n",
    "ax.set_title(\"Conversion rate from cropland to deciduous forest\")\n",
    "fig.savefig(\"results\\\\figures\\\\Crop_to_Deciduous_rate.png\" )"
   ]
  }
 ],
 "metadata": {
  "kernelspec": {
   "display_name": "hls_env",
   "language": "python",
   "name": "python3"
  },
  "language_info": {
   "name": "python",
   "version": "3.13.7"
  }
 },
 "nbformat": 4,
 "nbformat_minor": 5
}
