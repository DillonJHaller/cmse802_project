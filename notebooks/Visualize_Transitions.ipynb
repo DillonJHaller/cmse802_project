{
 "cells": [
  {
   "cell_type": "markdown",
   "id": "139a71dc",
   "metadata": {},
   "source": [
    "# Visualize Transitions\n",
    "This notebook is used to generate graphs tracking transitions between different land covers in the past ten years according to the National Land Cover Database\n",
    "\n",
    "It is saved as a notebook to be more easily run in segments."
   ]
  },
  {
   "cell_type": "code",
   "execution_count": null,
   "id": "d9b5770b",
   "metadata": {},
   "outputs": [],
   "source": []
  }
 ],
 "metadata": {
  "kernelspec": {
   "display_name": "hls_env",
   "language": "python",
   "name": "python3"
  },
  "language_info": {
   "name": "python",
   "version": "3.13.7"
  }
 },
 "nbformat": 4,
 "nbformat_minor": 5
}
